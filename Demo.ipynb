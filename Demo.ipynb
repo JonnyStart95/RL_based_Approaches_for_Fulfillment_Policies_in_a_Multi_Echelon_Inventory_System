{
 "cells": [
  {
   "cell_type": "markdown",
   "metadata": {},
   "source": [
    "To compare the performance of different agents,\n",
    "- Agents that need to be trained are trained for 100 episodes of length 400\n",
    "- They are tested for 30 epoches of length 2000, (during these epoches, they keep learning)"
   ]
  },
  {
   "cell_type": "code",
   "execution_count": 1,
   "metadata": {
    "scrolled": false
   },
   "outputs": [
    {
     "data": {
      "text/html": [
       "<div>\n",
       "<style scoped>\n",
       "    .dataframe tbody tr th:only-of-type {\n",
       "        vertical-align: middle;\n",
       "    }\n",
       "\n",
       "    .dataframe tbody tr th {\n",
       "        vertical-align: top;\n",
       "    }\n",
       "\n",
       "    .dataframe thead th {\n",
       "        text-align: right;\n",
       "    }\n",
       "</style>\n",
       "<table border=\"1\" class=\"dataframe\">\n",
       "  <thead>\n",
       "    <tr style=\"text-align: right;\">\n",
       "      <th></th>\n",
       "      <th>benchmark</th>\n",
       "      <th>ddpg</th>\n",
       "      <th>smart</th>\n",
       "    </tr>\n",
       "  </thead>\n",
       "  <tbody>\n",
       "    <tr>\n",
       "      <th>count</th>\n",
       "      <td>100.000000</td>\n",
       "      <td>100.000000</td>\n",
       "      <td>100.000000</td>\n",
       "    </tr>\n",
       "    <tr>\n",
       "      <th>mean</th>\n",
       "      <td>8365.317165</td>\n",
       "      <td>8398.642150</td>\n",
       "      <td>8362.187664</td>\n",
       "    </tr>\n",
       "    <tr>\n",
       "      <th>std</th>\n",
       "      <td>66.544301</td>\n",
       "      <td>75.596317</td>\n",
       "      <td>868.468901</td>\n",
       "    </tr>\n",
       "    <tr>\n",
       "      <th>min</th>\n",
       "      <td>8149.289500</td>\n",
       "      <td>8223.812000</td>\n",
       "      <td>-169.238600</td>\n",
       "    </tr>\n",
       "    <tr>\n",
       "      <th>25%</th>\n",
       "      <td>8328.686375</td>\n",
       "      <td>8344.486750</td>\n",
       "      <td>8406.024625</td>\n",
       "    </tr>\n",
       "    <tr>\n",
       "      <th>50%</th>\n",
       "      <td>8364.393500</td>\n",
       "      <td>8399.050750</td>\n",
       "      <td>8442.735000</td>\n",
       "    </tr>\n",
       "    <tr>\n",
       "      <th>75%</th>\n",
       "      <td>8411.912375</td>\n",
       "      <td>8452.493125</td>\n",
       "      <td>8501.695875</td>\n",
       "    </tr>\n",
       "    <tr>\n",
       "      <th>max</th>\n",
       "      <td>8551.262500</td>\n",
       "      <td>8552.649000</td>\n",
       "      <td>8646.927000</td>\n",
       "    </tr>\n",
       "  </tbody>\n",
       "</table>\n",
       "</div>"
      ],
      "text/plain": [
       "         benchmark         ddpg        smart\n",
       "count   100.000000   100.000000   100.000000\n",
       "mean   8365.317165  8398.642150  8362.187664\n",
       "std      66.544301    75.596317   868.468901\n",
       "min    8149.289500  8223.812000  -169.238600\n",
       "25%    8328.686375  8344.486750  8406.024625\n",
       "50%    8364.393500  8399.050750  8442.735000\n",
       "75%    8411.912375  8452.493125  8501.695875\n",
       "max    8551.262500  8552.649000  8646.927000"
      ]
     },
     "execution_count": 1,
     "metadata": {},
     "output_type": "execute_result"
    }
   ],
   "source": [
    "\"\"\" A saved test result (Since the training and the testing take time, \n",
    "this is a saved result to have a first glance at the result.)\"\"\"\n",
    "\n",
    "import pandas as pd\n",
    "import seaborn as sns\n",
    "import matplotlib.pylab as plt\n",
    "\n",
    "dt = pd.read_csv( 'ddpg_smart_eoq_100_fold_run_performance.csv' )\n",
    "dt = dt/2000\n",
    "for name in dt.columns:\n",
    "    sns.distplot( [ _ for _ in dt[name] if _ > 0],label='baseline' if name == 'benchmark' else name,\n",
    "                 hist=False,rug=True,axlabel='score')\n",
    "plt.title('Distribution of Score for Different Approaches')\n",
    "dt.describe()"
   ]
  },
  {
   "cell_type": "markdown",
   "metadata": {},
   "source": [
    "According to the figure above, we can see that ddpg method does indeed marginally better than the baseline,\n",
    "but the improvement is very small and unconvincing."
   ]
  },
  {
   "cell_type": "code",
   "execution_count": 1,
   "metadata": {
    "scrolled": false
   },
   "outputs": [
    {
     "name": "stdout",
     "output_type": "stream",
     "text": [
      "Initialise agents...\n"
     ]
    },
    {
     "name": "stderr",
     "output_type": "stream",
     "text": [
      "100%|██████████| 100/100 [09:55<00:00,  5.95s/it]\n",
      "100%|██████████| 100/100 [01:35<00:00,  1.05it/s]\n"
     ]
    }
   ],
   "source": [
    "## Train a new agent or restore an agent \n",
    "\n",
    "import random\n",
    "random.seed(0)\n",
    "import numpy as np\n",
    "np.random.seed(0)\n",
    "import tensorflow as tf\n",
    "tf.reset_default_graph()\n",
    "tf.set_random_seed(0)\n",
    "\n",
    "import pandas as pd\n",
    "import seaborn as sns\n",
    "\n",
    "from SupplyChain.SequentialSupplyChain import SequentialSupplyChain\n",
    "from Agents.RandomAgent import RandomAgent\n",
    "from Agents.BenchmarkAgent import BenchmarkAgent\n",
    "from Agents.SMARTAgent import SMARTAgent\n",
    "from Agents.DDPGAgent import DDPGAgent\n",
    "\n",
    "import main\n",
    "\n",
    "env = SequentialSupplyChain()\n",
    "rewards = dict()\n",
    "\n",
    "print('Initialising agents...')\n",
    "agents = {\n",
    "    'ddpg':DDPGAgent( env ),\n",
    "    'smart':SMARTAgent( env ),\n",
    "    'baseline':BenchmarkAgent( env )\n",
    "}\n",
    "\n",
    "## maybe latest checkpoint\n",
    "# checkpoint_path = 'tmp/model.ckpt'\n",
    "# agent.restore( checkpoint_path )\n",
    "\n",
    "## Training Block ##\n",
    "agents_to_train = ['ddpg','smart']\n",
    "\n",
    "for ag in agents_to_train:\n",
    "    print( 'Training '+ag+' agent...' )\n",
    "    main.train( agent = agents[ag], env = env )"
   ]
  },
  {
   "cell_type": "code",
   "execution_count": null,
   "metadata": {},
   "outputs": [
    {
     "name": "stderr",
     "output_type": "stream",
     "text": [
      "\n",
      "  0%|          | 0/50 [00:00<?, ?it/s]\u001b[A"
     ]
    },
    {
     "name": "stdout",
     "output_type": "stream",
     "text": [
      "Testing ddpg agent...\n"
     ]
    },
    {
     "name": "stderr",
     "output_type": "stream",
     "text": [
      "\n",
      " 46%|████▌     | 23/50 [11:39<13:41, 30.42s/it]"
     ]
    }
   ],
   "source": [
    "## Test Block ##\n",
    "\n",
    "n = NUM_TEST_EPISODES = 50\n",
    "l = LEN_TEST_EPISODE = lambda x:2000\n",
    "\n",
    "for ag_name in agents:\n",
    "    print( 'Testing '+ag_name+' agent...' )\n",
    "    rewards[ag_name] = main.train( agent = agents[ag_name], env = env, len_episode = l, num_episodes = n)"
   ]
  },
  {
   "cell_type": "code",
   "execution_count": null,
   "metadata": {},
   "outputs": [],
   "source": [
    "## Stats of Average Performance and Standard Deviation\n",
    "\n",
    "def print_stat( r, l, name ):\n",
    "    print(name+' Avr:{}, Std:{}'.format(np.mean(r)/l,np.std(r)/l))\n",
    "\n",
    "for name in dt.columns:\n",
    "    print_stat(dt[name],1,name)"
   ]
  },
  {
   "cell_type": "code",
   "execution_count": 4,
   "metadata": {},
   "outputs": [],
   "source": [
    "for name in rewards:\n",
    "    sns.distplot([a for a in rewards[name] if a > 8000 and a < 9000],label=name,hist=False,rug=True)\n",
    "plt.legend()"
   ]
  },
  {
   "cell_type": "code",
   "execution_count": 3,
   "metadata": {},
   "outputs": [
    {
     "data": {
      "text/plain": [
       "'tmp/model.ckpt'"
      ]
     },
     "execution_count": 3,
     "metadata": {},
     "output_type": "execute_result"
    }
   ],
   "source": [
    "## Run if save ddpg model\n",
    "\n",
    "SAVE_DIR = 'tmp/model.ckpt'\n",
    "\n",
    "saver = tf.train.Saver()\n",
    "saver.save(agents['ddpg'].sess,SAVE_DIR)"
   ]
  },
  {
   "cell_type": "code",
   "execution_count": 2,
   "metadata": {},
   "outputs": [
    {
     "data": {
      "text/plain": [
       "dict_keys(['entropy', 'actor_loss', 'td_errors', 'predicted_action_values', 'critic_loss'])"
      ]
     },
     "execution_count": 2,
     "metadata": {},
     "output_type": "execute_result"
    }
   ],
   "source": [
    "# Inspect how certain values change during the training process\n",
    "# Show inspected keys \n",
    "\n",
    "from copy import deepcopy\n",
    "inspected = deepcopy(agents['ddpg'].inspected_values)\n",
    "inspected.keys()"
   ]
  },
  {
   "cell_type": "code",
   "execution_count": 5,
   "metadata": {},
   "outputs": [],
   "source": [
    "## Choose an attribute to inspect\n",
    "KEY = 'predicted_action_values'\n",
    "LENGTH = 10000\n",
    "\n",
    "import seaborn as sns\n",
    "import numpy as np\n",
    "fig = sns.lineplot( data = (np.array(inspected[KEY]))[:LENGTH])\n",
    "fig.set( xlabel = 'episode', ylabel = KEY )"
   ]
  }
 ],
 "metadata": {
  "kernelspec": {
   "display_name": "Python 3",
   "language": "python",
   "name": "python3"
  },
  "language_info": {
   "codemirror_mode": {
    "name": "ipython",
    "version": 3
   },
   "file_extension": ".py",
   "mimetype": "text/x-python",
   "name": "python",
   "nbconvert_exporter": "python",
   "pygments_lexer": "ipython3",
   "version": "3.7.3"
  }
 },
 "nbformat": 4,
 "nbformat_minor": 2
}
